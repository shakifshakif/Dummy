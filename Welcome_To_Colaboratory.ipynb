{
  "cells": [
    {
      "cell_type": "markdown",
      "metadata": {
        "id": "view-in-github",
        "colab_type": "text"
      },
      "source": [
        "<a href=\"https://colab.research.google.com/github/shakifshakif/Dummy/blob/master/Welcome_To_Colaboratory.ipynb\" target=\"_parent\"><img src=\"https://colab.research.google.com/assets/colab-badge.svg\" alt=\"Open In Colab\"/></a>"
      ]
    },
    {
      "cell_type": "code",
      "source": [
        "import pandas as pd"
      ],
      "metadata": {
        "id": "WOcY_7WUmU2P"
      },
      "execution_count": 165,
      "outputs": []
    },
    {
      "cell_type": "code",
      "source": [
        "data = pd.read_excel(\"AD Dump_License_Asset Details.xlsx\")"
      ],
      "metadata": {
        "id": "7CJyZvj2mU4b"
      },
      "execution_count": 166,
      "outputs": []
    },
    {
      "cell_type": "code",
      "source": [
        "# Main Engine of the script - for extraction\n",
        "def extract_all_after_ou_clean(text):\n",
        "    extracted_values = []\n",
        "    for part in reversed(text.split(\",\")):  # Iterate in reverse order\n",
        "        if part.startswith(\"OU=\"):  # Only extract if part starts with \"OU=\"\n",
        "            extracted_values.append(part[part.index(\"=\") + 1:].strip(\"[]\"))  # Extract from \"=\" to end, remove brackets\n",
        "    return \", \".join(extracted_values)  # Join with \", \" after removing quotes"
      ],
      "metadata": {
        "id": "Zbif3qXUmU6m"
      },
      "execution_count": 167,
      "outputs": []
    },
    {
      "cell_type": "code",
      "source": [
        "# Sub-Engine of the script - after extraction\n",
        "data[\"extracted_values_clean_3\"] = data[\"ParentContainer\"].apply(extract_all_after_ou_clean)"
      ],
      "metadata": {
        "id": "obw0V9NDmU8o"
      },
      "execution_count": 168,
      "outputs": []
    },
    {
      "cell_type": "code",
      "source": [
        "# Defining new column names\n",
        "new_col_names = ['Col_1', 'Col_2', 'Col_3', 'Col_4', 'Col_5', 'Col_6', 'Col_7']"
      ],
      "metadata": {
        "id": "mcUDY6RlmU_B"
      },
      "execution_count": 169,
      "outputs": []
    },
    {
      "cell_type": "code",
      "source": [
        "# Intel picking the values as per user\n",
        "max_values = max(len(x.split(\",\")) for x in data[\"extracted_values_clean_3\"])\n",
        "new_col_names = [f\"Column_{i}\" for i in range(max_values)]\n",
        "data[new_col_names] = data[\"extracted_values_clean_3\"].str.split(\",\", expand = True)"
      ],
      "metadata": {
        "id": "EEBvJxo6mVBT"
      },
      "execution_count": 170,
      "outputs": []
    },
    {
      "cell_type": "code",
      "source": [
        "# Define new column names\n",
        "new_col_names = {\n",
        "    \"Column_0\": \"High_Location\",\n",
        "    \"Column_1\": \"Location_\",\n",
        "    \"Column_2\": \"Sub_Location\",\n",
        "    \"Column_3\": \"Department\",\n",
        "    \"Column_4\": \"Sub_department\",\n",
        "    \"Column_5\": \"Sub_department_1\",\n",
        "    \"Column_6\": \"Sub_Department_2\",\n",
        "    \"Column_7\": \"Sub_Department_3\"}"
      ],
      "metadata": {
        "id": "l9L1NLshmVDO"
      },
      "execution_count": 171,
      "outputs": []
    },
    {
      "cell_type": "code",
      "source": [
        "# Finalizing the column names\n",
        "data.rename(columns=new_col_names, inplace = True)"
      ],
      "metadata": {
        "id": "ap1i-2ZSmVFj"
      },
      "execution_count": 172,
      "outputs": []
    },
    {
      "cell_type": "code",
      "source": [
        "# Replacing Asia\n",
        "data['High_Location'] = data.apply(lambda row: row['Sub_Location'] if row['High_Location'] == 'Asia' else row['High_Location'], axis=1)"
      ],
      "metadata": {
        "id": "EWd2Ezwh7UuS"
      },
      "execution_count": 173,
      "outputs": []
    },
    {
      "cell_type": "code",
      "source": [
        "# Rplacing Asscociates\n",
        "data['High_Location'] = data.apply(lambda row: row['Sub_Location'] if row['High_Location'] == 'Asscociates' else row['High_Location'], axis=1)"
      ],
      "metadata": {
        "id": "ubl7E5SdDogL"
      },
      "execution_count": 174,
      "outputs": []
    },
    {
      "cell_type": "code",
      "source": [
        "# Replacing USA\n",
        "data['High_Location'] = data.apply(lambda row: row['Location_'] if row['High_Location'] == 'USA' else row['High_Location'], axis=1)"
      ],
      "metadata": {
        "id": "fS6vBqhCZ4k3"
      },
      "execution_count": 175,
      "outputs": []
    },
    {
      "cell_type": "code",
      "source": [
        "# Replacing Datacenter\n",
        "data['High_Location'] = data.apply(lambda row: row['Location_'] if row['High_Location'] == 'Datacenter' else row['High_Location'], axis=1)"
      ],
      "metadata": {
        "id": "JbMYSqnPkN1I"
      },
      "execution_count": 176,
      "outputs": []
    },
    {
      "cell_type": "code",
      "source": [
        "# Inverse replacement of Sri Lanka\n",
        "data.loc[data['Location_'] == 'Sri Lanka', 'High_Location'] = 'Sri Lanka'"
      ],
      "metadata": {
        "id": "K4waBfuUeIWV"
      },
      "execution_count": null,
      "outputs": []
    },
    {
      "cell_type": "code",
      "source": [
        "# data.loc[data['High_Location'] == 'USA', 'High_Location'] = data[data['High_Location'] == 'USA']['Location']"
      ],
      "metadata": {
        "id": "ycp0SrZ3X-GL"
      },
      "execution_count": null,
      "outputs": []
    },
    {
      "cell_type": "code",
      "source": [
        "# Columns to fill which are blanks - trick\n",
        "data['High_Location'] = data['High_Location'].fillna('')"
      ],
      "metadata": {
        "id": "YnPjcLtZ8_Bj"
      },
      "execution_count": null,
      "outputs": []
    },
    {
      "cell_type": "code",
      "source": [
        "# Values to be stripped\n",
        "data['High_Location'] = data['High_Location'].str.strip()"
      ],
      "metadata": {
        "id": "Trku7rKMJVBI"
      },
      "execution_count": 180,
      "outputs": []
    },
    {
      "cell_type": "code",
      "source": [
        "# Saving the final product to excel\n",
        "data.to_excel(\"AD-Users-2024-01-10_updated_test.xlsx\", index=False)"
      ],
      "metadata": {
        "id": "zPCFC3rVmVH0"
      },
      "execution_count": 181,
      "outputs": []
    },
    {
      "cell_type": "code",
      "source": [],
      "metadata": {
        "id": "u-207zT5mVKI"
      },
      "execution_count": null,
      "outputs": []
    },
    {
      "cell_type": "code",
      "source": [],
      "metadata": {
        "id": "tDYcZNHUmVMh"
      },
      "execution_count": null,
      "outputs": []
    },
    {
      "cell_type": "code",
      "source": [],
      "metadata": {
        "id": "EkYBECvPmVQ7"
      },
      "execution_count": null,
      "outputs": []
    }
  ],
  "metadata": {
    "colab": {
      "name": "Welcome To Colaboratory",
      "provenance": [],
      "include_colab_link": true
    },
    "kernelspec": {
      "display_name": "Python 3",
      "name": "python3"
    }
  },
  "nbformat": 4,
  "nbformat_minor": 0
}